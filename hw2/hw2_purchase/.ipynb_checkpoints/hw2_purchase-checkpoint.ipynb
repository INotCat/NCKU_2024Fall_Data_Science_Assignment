{
 "cells": [
  {
   "cell_type": "markdown",
   "metadata": {},
   "source": [
    "### In-Game Purchase Data Analysis\n",
    "\n",
    "#### Background \n",
    "\n",
    "In this homework, you are ask to deal with a task of analyzing an \"in-game purchase\" dataset. In this game, players are able to to purchase optional items that enhance their playing experience. Now your task is to generate a report that breaks down the game's purchasing data into meaningful insights.\n",
    "\n",
    "-----\n",
    "\n",
    "#### Observable Trends\n",
    "\n",
    "* There are 1163 active players. The vast majority are male (84%). There also exists, a smaller, but notable proportion of female players (14%).\n",
    "\n",
    "* Our peak age demographic falls between 20-24 (44.79%) with secondary groups falling between 15-19 (18.58%) and 25-29 (13.37%). \n",
    "\n",
    "* The age group that spends the most money is the 20-24 with 1,114.06 dollars as total purchase value and an average purchase of 4.32. In contrast, the demographic group that has the highest average purchase is the 35-39 with 4.76 and a total purchase value of 147.67. \n",
    "-----\n"
   ]
  },
  {
   "cell_type": "code",
   "execution_count": 1,
   "metadata": {},
   "outputs": [],
   "source": [
    "import pandas as pd\n",
    "import numpy as np\n",
    "\n",
    "# Raw data file\n",
    "file_to_load = \"purchase_data.csv\"\n",
    "\n",
    "# Read purchasing file and store into pandas data frame\n",
    "purchase_data = pd.read_csv(file_to_load)"
   ]
  },
  {
   "cell_type": "markdown",
   "metadata": {},
   "source": [
    "## Player Count"
   ]
  },
  {
   "cell_type": "markdown",
   "metadata": {},
   "source": [
    "* Display the total number of players\n"
   ]
  },
  {
   "cell_type": "code",
   "execution_count": 8,
   "metadata": {},
   "outputs": [
    {
     "data": {
      "text/html": [
       "<div>\n",
       "<style scoped>\n",
       "    .dataframe tbody tr th:only-of-type {\n",
       "        vertical-align: middle;\n",
       "    }\n",
       "\n",
       "    .dataframe tbody tr th {\n",
       "        vertical-align: top;\n",
       "    }\n",
       "\n",
       "    .dataframe thead th {\n",
       "        text-align: right;\n",
       "    }\n",
       "</style>\n",
       "<table border=\"1\" class=\"dataframe\">\n",
       "  <thead>\n",
       "    <tr style=\"text-align: right;\">\n",
       "      <th></th>\n",
       "      <th>Total Players</th>\n",
       "    </tr>\n",
       "  </thead>\n",
       "  <tbody>\n",
       "    <tr>\n",
       "      <th>0</th>\n",
       "      <td>576</td>\n",
       "    </tr>\n",
       "  </tbody>\n",
       "</table>\n",
       "</div>"
      ],
      "text/plain": [
       "   Total Players\n",
       "0            576"
      ]
     },
     "execution_count": 8,
     "metadata": {},
     "output_type": "execute_result"
    }
   ],
   "source": [
    "#nunique() count the number of unique values in a column DataFrame( based on 'SN' column )\n",
    "player_count = purchase_data['SN'].nunique()\n",
    "\n",
    "#create a one-row table with the result\n",
    "playerCount_df = pd.DataFrame({'Total Players': [player_count]})\n",
    "playerCount_df"
   ]
  },
  {
   "cell_type": "markdown",
   "metadata": {},
   "source": [
    "## Purchasing Analysis (Total)"
   ]
  },
  {
   "cell_type": "markdown",
   "metadata": {},
   "source": [
    "* Run basic calculations to obtain number of unique items, average price, etc.\n",
    "* Create a summary data frame to hold the results\n",
    "* Display the summary data frame"
   ]
  },
  {
   "cell_type": "code",
   "execution_count": 19,
   "metadata": {
    "scrolled": true
   },
   "outputs": [
    {
     "data": {
      "text/html": [
       "<div>\n",
       "<style scoped>\n",
       "    .dataframe tbody tr th:only-of-type {\n",
       "        vertical-align: middle;\n",
       "    }\n",
       "\n",
       "    .dataframe tbody tr th {\n",
       "        vertical-align: top;\n",
       "    }\n",
       "\n",
       "    .dataframe thead th {\n",
       "        text-align: right;\n",
       "    }\n",
       "</style>\n",
       "<table border=\"1\" class=\"dataframe\">\n",
       "  <thead>\n",
       "    <tr style=\"text-align: right;\">\n",
       "      <th></th>\n",
       "      <th>Number of Unique Items</th>\n",
       "      <th>Average Price</th>\n",
       "      <th>Number of Purchases</th>\n",
       "      <th>Total Revenue</th>\n",
       "    </tr>\n",
       "  </thead>\n",
       "  <tbody>\n",
       "    <tr>\n",
       "      <th>0</th>\n",
       "      <td>183</td>\n",
       "      <td>3.05</td>\n",
       "      <td>780</td>\n",
       "      <td>2379.77</td>\n",
       "    </tr>\n",
       "  </tbody>\n",
       "</table>\n",
       "</div>"
      ],
      "text/plain": [
       "   Number of Unique Items  Average Price  Number of Purchases  Total Revenue\n",
       "0                     183           3.05                  780        2379.77"
      ]
     },
     "execution_count": 19,
     "metadata": {},
     "output_type": "execute_result"
    }
   ],
   "source": [
    "#if the values are strings, convert them to float first using pd.to_numeric(df['Price']).\n",
    "num_of_items = purchase_data['Item ID'].nunique()\n",
    "sum_revenue = purchase_data['Price'].sum()\n",
    "num_of_purchase = len(purchase_data)\n",
    "avg_price = round(purchase_data['Price'].mean(), 2)\n",
    "\n",
    "\n",
    "number_df = pd.DataFrame({'Number of Unique Items': [num_of_items],\n",
    "                          'Average Price': [avg_price],\n",
    "                          'Number of Purchases': [num_of_purchase],\n",
    "                          'Total Revenue': [sum_revenue], \n",
    "                         })\n",
    "number_df"
   ]
  },
  {
   "cell_type": "markdown",
   "metadata": {},
   "source": [
    "## Gender Demographics"
   ]
  },
  {
   "cell_type": "markdown",
   "metadata": {},
   "source": [
    "* Percentage and Count of Male Players\n",
    "\n",
    "\n",
    "* Percentage and Count of Female Players\n",
    "\n",
    "\n",
    "* Percentage and Count of Other / Non-Disclosed\n",
    "\n",
    "\n"
   ]
  },
  {
   "cell_type": "code",
   "execution_count": 36,
   "metadata": {},
   "outputs": [
    {
     "data": {
      "text/html": [
       "<div>\n",
       "<style scoped>\n",
       "    .dataframe tbody tr th:only-of-type {\n",
       "        vertical-align: middle;\n",
       "    }\n",
       "\n",
       "    .dataframe tbody tr th {\n",
       "        vertical-align: top;\n",
       "    }\n",
       "\n",
       "    .dataframe thead th {\n",
       "        text-align: right;\n",
       "    }\n",
       "</style>\n",
       "<table border=\"1\" class=\"dataframe\">\n",
       "  <thead>\n",
       "    <tr style=\"text-align: right;\">\n",
       "      <th></th>\n",
       "      <th>Percentage of Players</th>\n",
       "      <th>Total Count</th>\n",
       "    </tr>\n",
       "  </thead>\n",
       "  <tbody>\n",
       "    <tr>\n",
       "      <th>Male</th>\n",
       "      <td>84.03</td>\n",
       "      <td>484</td>\n",
       "    </tr>\n",
       "    <tr>\n",
       "      <th>Female</th>\n",
       "      <td>14.06</td>\n",
       "      <td>81</td>\n",
       "    </tr>\n",
       "    <tr>\n",
       "      <th>Other / Non-Disclosed</th>\n",
       "      <td>1.91</td>\n",
       "      <td>11</td>\n",
       "    </tr>\n",
       "  </tbody>\n",
       "</table>\n",
       "</div>"
      ],
      "text/plain": [
       "                       Percentage of Players  Total Count\n",
       "Male                                   84.03          484\n",
       "Female                                 14.06           81\n",
       "Other / Non-Disclosed                   1.91           11"
      ]
     },
     "execution_count": 36,
     "metadata": {},
     "output_type": "execute_result"
    }
   ],
   "source": [
    "\n",
    "non_duplicate_data = purchase_data.drop_duplicates(subset='SN')\n",
    "total = len(non_duplicate_data)\n",
    "\n",
    "male_count = non_duplicate_data['Gender'].value_counts().get('Male', 0)\n",
    "female_count = non_duplicate_data['Gender'].value_counts().get('Female', 0)\n",
    "non_disclosed = non_duplicate_data['Gender'].value_counts().get('Other / Non-Disclosed', 0)\n",
    "\n",
    "\n",
    "\n",
    "male_percentage = round((male_count / total) * 100, 2)\n",
    "female_percentage = round((female_count / total) * 100, 2)\n",
    "non_disclosed_percentage = round((non_disclosed / total) * 100, 2)\n",
    "\n",
    "# Create a 2D table with counts and percentages\n",
    "data = {\n",
    "    'Percentage of Players': [male_percentage, female_percentage, non_disclosed_percentage],\n",
    "    'Total Count': [male_count, female_count, non_disclosed],\n",
    "}\n",
    "\n",
    "# Create a DataFrame for the table\n",
    "gender_df1 = pd.DataFrame(data, index=['Male', 'Female', 'Other / Non-Disclosed'])\n",
    "gender_df1"
   ]
  },
  {
   "cell_type": "markdown",
   "metadata": {},
   "source": [
    "\n",
    "## Purchasing Analysis (Gender)"
   ]
  },
  {
   "cell_type": "markdown",
   "metadata": {},
   "source": [
    "* Run basic calculations to obtain below values by gender\n",
    "  * Purchase Count\n",
    "  * Average Purchase Price  \n",
    "  * Total Purchase Value\n",
    "  * Average Purchase Total per Person by Gender\n",
    "* Create a summary data frame to hold the results\n",
    "* Display the summary data frame"
   ]
  },
  {
   "cell_type": "code",
   "execution_count": 57,
   "metadata": {},
   "outputs": [
    {
     "data": {
      "text/html": [
       "<div>\n",
       "<style scoped>\n",
       "    .dataframe tbody tr th:only-of-type {\n",
       "        vertical-align: middle;\n",
       "    }\n",
       "\n",
       "    .dataframe tbody tr th {\n",
       "        vertical-align: top;\n",
       "    }\n",
       "\n",
       "    .dataframe thead th {\n",
       "        text-align: right;\n",
       "    }\n",
       "</style>\n",
       "<table border=\"1\" class=\"dataframe\">\n",
       "  <thead>\n",
       "    <tr style=\"text-align: right;\">\n",
       "      <th></th>\n",
       "      <th>Purchase Count</th>\n",
       "      <th>Average Purchase Price</th>\n",
       "      <th>Total Purchase Value</th>\n",
       "      <th>Avg Purchase Total per Person</th>\n",
       "    </tr>\n",
       "  </thead>\n",
       "  <tbody>\n",
       "    <tr>\n",
       "      <th>Female</th>\n",
       "      <td>113</td>\n",
       "      <td>3.20301</td>\n",
       "      <td>361.94</td>\n",
       "      <td>4.47</td>\n",
       "    </tr>\n",
       "    <tr>\n",
       "      <th>Male</th>\n",
       "      <td>652</td>\n",
       "      <td>3.01785</td>\n",
       "      <td>1967.64</td>\n",
       "      <td>4.07</td>\n",
       "    </tr>\n",
       "    <tr>\n",
       "      <th>Other / Non-Disclosed</th>\n",
       "      <td>15</td>\n",
       "      <td>3.34600</td>\n",
       "      <td>50.19</td>\n",
       "      <td>4.56</td>\n",
       "    </tr>\n",
       "  </tbody>\n",
       "</table>\n",
       "</div>"
      ],
      "text/plain": [
       "                       Purchase Count  Average Purchase Price  \\\n",
       "Female                            113                 3.20301   \n",
       "Male                              652                 3.01785   \n",
       "Other / Non-Disclosed              15                 3.34600   \n",
       "\n",
       "                       Total Purchase Value  Avg Purchase Total per Person  \n",
       "Female                               361.94                           4.47  \n",
       "Male                                1967.64                           4.07  \n",
       "Other / Non-Disclosed                 50.19                           4.56  "
      ]
     },
     "execution_count": 57,
     "metadata": {},
     "output_type": "execute_result"
    }
   ],
   "source": [
    "male_purchase_count = purchase_data['Gender'].value_counts().get('Male', 0)\n",
    "female_purchase_count = purchase_data['Gender'].value_counts().get('Female', 0)\n",
    "non_purchase_disclosed_count = purchase_data['Gender'].value_counts().get('Other / Non-Disclosed', 0)\n",
    "\n",
    "male_purchase_Psum = purchase_data[purchase_data['Gender'] == 'Male']['Price'].sum()\n",
    "female_purchase_Psum = purchase_data[purchase_data['Gender'] == 'Female']['Price'].sum()\n",
    "non_purchase_disclosed_Psum = purchase_data[purchase_data['Gender'] == 'Other / Non-Disclosed']['Price'].sum()\n",
    "\n",
    "non_duplicate_data = purchase_data.drop_duplicates(subset='SN')\n",
    "male_nonD_count = non_duplicate_data['Gender'].value_counts().get('Male', 0)\n",
    "female_nonD_count = non_duplicate_data['Gender'].value_counts().get('Female', 0)\n",
    "non_disclosed_nonD_count = non_duplicate_data['Gender'].value_counts().get('Other / Non-Disclosed', 0)\n",
    "\n",
    "male_purchase_avg = round(male_purchase_Psum / male_purchase_count, 5) if male_purchase_count else 0\n",
    "female_purchase_avg = round(female_purchase_Psum / female_purchase_count, 5) if female_purchase_count else 0\n",
    "non_purchase_disclosed_avg = round(non_purchase_disclosed_Psum / non_purchase_disclosed_count, 5) if non_purchase_disclosed_count else 0\n",
    "\n",
    "\n",
    "data = {\n",
    "    'Purchase Count': [female_purchase_count, male_purchase_count, non_purchase_disclosed_count],\n",
    "    'Average Purchase Price': [female_purchase_avg, male_purchase_avg, non_purchase_disclosed_avg],\n",
    "    'Total Purchase Value': [female_purchase_Psum, male_purchase_Psum, non_purchase_disclosed_Psum],\n",
    "    'Avg Purchase Total per Person': [\n",
    "        round(female_purchase_Psum / female_nonD_count, 2) if female_purchase_count else 0,\n",
    "        round(male_purchase_Psum / male_nonD_count, 2) if male_purchase_count else 0,\n",
    "        round(non_purchase_disclosed_Psum / non_disclosed_nonD_count, 2) if non_purchase_disclosed_count else 0\n",
    "    ],\n",
    "}\n",
    "\n",
    "\n",
    "gender_df2 = pd.DataFrame(data, index=['Female', 'Male', 'Other / Non-Disclosed'])\n",
    "gender_df2"
   ]
  },
  {
   "cell_type": "markdown",
   "metadata": {},
   "source": [
    "## Age Demographics"
   ]
  },
  {
   "cell_type": "markdown",
   "metadata": {},
   "source": [
    "* Categorize players using the age groups. Hint: use pd.cut()\n",
    "  * each group is for 4 years (i.e. &lt;10, 10-14, 15-19, etc.)\n",
    "* Calculate the numbers and percentages by age group\n",
    "* Create a summary data frame to hold the results\n",
    "* round the percentage column to two decimal points\n",
    "* Display Age Demographics Table"
   ]
  },
  {
   "cell_type": "code",
   "execution_count": 74,
   "metadata": {},
   "outputs": [
    {
     "data": {
      "text/html": [
       "<div>\n",
       "<style scoped>\n",
       "    .dataframe tbody tr th:only-of-type {\n",
       "        vertical-align: middle;\n",
       "    }\n",
       "\n",
       "    .dataframe tbody tr th {\n",
       "        vertical-align: top;\n",
       "    }\n",
       "\n",
       "    .dataframe thead th {\n",
       "        text-align: right;\n",
       "    }\n",
       "</style>\n",
       "<table border=\"1\" class=\"dataframe\">\n",
       "  <thead>\n",
       "    <tr style=\"text-align: right;\">\n",
       "      <th></th>\n",
       "      <th>Percentage of Players</th>\n",
       "      <th>Total Count</th>\n",
       "    </tr>\n",
       "  </thead>\n",
       "  <tbody>\n",
       "    <tr>\n",
       "      <th>&lt;10</th>\n",
       "      <td>2.95</td>\n",
       "      <td>17</td>\n",
       "    </tr>\n",
       "    <tr>\n",
       "      <th>10-14</th>\n",
       "      <td>3.82</td>\n",
       "      <td>22</td>\n",
       "    </tr>\n",
       "    <tr>\n",
       "      <th>15-19</th>\n",
       "      <td>18.58</td>\n",
       "      <td>107</td>\n",
       "    </tr>\n",
       "    <tr>\n",
       "      <th>20-24</th>\n",
       "      <td>44.79</td>\n",
       "      <td>258</td>\n",
       "    </tr>\n",
       "    <tr>\n",
       "      <th>25-29</th>\n",
       "      <td>13.37</td>\n",
       "      <td>77</td>\n",
       "    </tr>\n",
       "    <tr>\n",
       "      <th>30-34</th>\n",
       "      <td>9.03</td>\n",
       "      <td>52</td>\n",
       "    </tr>\n",
       "    <tr>\n",
       "      <th>35-39</th>\n",
       "      <td>5.38</td>\n",
       "      <td>31</td>\n",
       "    </tr>\n",
       "    <tr>\n",
       "      <th>40+</th>\n",
       "      <td>2.08</td>\n",
       "      <td>12</td>\n",
       "    </tr>\n",
       "  </tbody>\n",
       "</table>\n",
       "</div>"
      ],
      "text/plain": [
       "       Percentage of Players  Total Count\n",
       "<10                     2.95           17\n",
       "10-14                   3.82           22\n",
       "15-19                  18.58          107\n",
       "20-24                  44.79          258\n",
       "25-29                  13.37           77\n",
       "30-34                   9.03           52\n",
       "35-39                   5.38           31\n",
       "40+                     2.08           12"
      ]
     },
     "execution_count": 74,
     "metadata": {},
     "output_type": "execute_result"
    }
   ],
   "source": [
    "non_duplicate_data = purchase_data.drop_duplicates(subset='SN')\n",
    "\n",
    "# Define age bins and labels\n",
    "bins = [-1, 9, 14, 19, 24, 29, 34, 39, float('inf')]  # Define bins for age groups\n",
    "labels = ['<10', '10-14', '15-19', '20-24', '25-29', '30-34', '35-39', '40+']  # Define labels for the bins\n",
    "\n",
    "# Create age groups without modifying the original DataFrame\n",
    "age_groups = pd.cut(non_duplicate_data['Age'], bins=bins, labels=labels)\n",
    "\n",
    "# Calculate the count of people in each age group\n",
    "age_group_counts = age_groups.value_counts().sort_index()\n",
    "\n",
    "# Create a DataFrame for better presentation using the desired data structure\n",
    "data = {\n",
    "    'Percentage of Players': (age_group_counts / age_group_counts.sum() * 100).round(2).tolist(),\n",
    "     'Total Count': age_group_counts.tolist(),\n",
    "}\n",
    "\n",
    "# Create the DataFrame without needing to specify a column index\n",
    "age_df1 = pd.DataFrame(data, index=labels)\n",
    "age_df1"
   ]
  },
  {
   "cell_type": "markdown",
   "metadata": {},
   "source": [
    "## Purchasing Analysis (Age)"
   ]
  },
  {
   "cell_type": "markdown",
   "metadata": {},
   "source": [
    "* The below each broken into groups of 4 years (i.e. &lt;10, 10-14, 15-19, etc.)\n",
    "  * Purchase Count\n",
    "  * Average Purchase Price\n",
    "  * Total Purchase Value\n",
    "  * Average Purchase Total per Person by Age Group\n",
    "* Bin the purchase_data data frame by age\n",
    "* Run basic calculations to obtain purchase count, avg. purchase price, avg. purchase total per person etc. in the table below\n",
    "* Create a summary data frame to hold the results\n",
    "* Display the summary data frame"
   ]
  },
  {
   "cell_type": "code",
   "execution_count": 7,
   "metadata": {},
   "outputs": [
    {
     "data": {
      "text/html": [
       "<style  type=\"text/css\" >\n",
       "</style><table id=\"T_050fc9cc_4411_11e9_b456_9822ef93214c\" ><thead>    <tr>        <th class=\"blank level0\" ></th>        <th class=\"col_heading level0 col0\" >Purchase Count</th>        <th class=\"col_heading level0 col1\" >Average Purchase Price</th>        <th class=\"col_heading level0 col2\" >Total Purchase Value</th>        <th class=\"col_heading level0 col3\" >Average Purchase Total per Person</th>    </tr></thead><tbody>\n",
       "                <tr>\n",
       "                        <th id=\"T_050fc9cc_4411_11e9_b456_9822ef93214clevel0_row0\" class=\"row_heading level0 row0\" ><10</th>\n",
       "                        <td id=\"T_050fc9cc_4411_11e9_b456_9822ef93214crow0_col0\" class=\"data row0 col0\" >23</td>\n",
       "                        <td id=\"T_050fc9cc_4411_11e9_b456_9822ef93214crow0_col1\" class=\"data row0 col1\" >$3.35</td>\n",
       "                        <td id=\"T_050fc9cc_4411_11e9_b456_9822ef93214crow0_col2\" class=\"data row0 col2\" >$77.13</td>\n",
       "                        <td id=\"T_050fc9cc_4411_11e9_b456_9822ef93214crow0_col3\" class=\"data row0 col3\" >$4.54</td>\n",
       "            </tr>\n",
       "            <tr>\n",
       "                        <th id=\"T_050fc9cc_4411_11e9_b456_9822ef93214clevel0_row1\" class=\"row_heading level0 row1\" >10-14</th>\n",
       "                        <td id=\"T_050fc9cc_4411_11e9_b456_9822ef93214crow1_col0\" class=\"data row1 col0\" >28</td>\n",
       "                        <td id=\"T_050fc9cc_4411_11e9_b456_9822ef93214crow1_col1\" class=\"data row1 col1\" >$2.96</td>\n",
       "                        <td id=\"T_050fc9cc_4411_11e9_b456_9822ef93214crow1_col2\" class=\"data row1 col2\" >$82.78</td>\n",
       "                        <td id=\"T_050fc9cc_4411_11e9_b456_9822ef93214crow1_col3\" class=\"data row1 col3\" >$3.76</td>\n",
       "            </tr>\n",
       "            <tr>\n",
       "                        <th id=\"T_050fc9cc_4411_11e9_b456_9822ef93214clevel0_row2\" class=\"row_heading level0 row2\" >15-19</th>\n",
       "                        <td id=\"T_050fc9cc_4411_11e9_b456_9822ef93214crow2_col0\" class=\"data row2 col0\" >136</td>\n",
       "                        <td id=\"T_050fc9cc_4411_11e9_b456_9822ef93214crow2_col1\" class=\"data row2 col1\" >$3.04</td>\n",
       "                        <td id=\"T_050fc9cc_4411_11e9_b456_9822ef93214crow2_col2\" class=\"data row2 col2\" >$412.89</td>\n",
       "                        <td id=\"T_050fc9cc_4411_11e9_b456_9822ef93214crow2_col3\" class=\"data row2 col3\" >$3.86</td>\n",
       "            </tr>\n",
       "            <tr>\n",
       "                        <th id=\"T_050fc9cc_4411_11e9_b456_9822ef93214clevel0_row3\" class=\"row_heading level0 row3\" >20-24</th>\n",
       "                        <td id=\"T_050fc9cc_4411_11e9_b456_9822ef93214crow3_col0\" class=\"data row3 col0\" >365</td>\n",
       "                        <td id=\"T_050fc9cc_4411_11e9_b456_9822ef93214crow3_col1\" class=\"data row3 col1\" >$3.05</td>\n",
       "                        <td id=\"T_050fc9cc_4411_11e9_b456_9822ef93214crow3_col2\" class=\"data row3 col2\" >$1,114.06</td>\n",
       "                        <td id=\"T_050fc9cc_4411_11e9_b456_9822ef93214crow3_col3\" class=\"data row3 col3\" >$4.32</td>\n",
       "            </tr>\n",
       "            <tr>\n",
       "                        <th id=\"T_050fc9cc_4411_11e9_b456_9822ef93214clevel0_row4\" class=\"row_heading level0 row4\" >25-29</th>\n",
       "                        <td id=\"T_050fc9cc_4411_11e9_b456_9822ef93214crow4_col0\" class=\"data row4 col0\" >101</td>\n",
       "                        <td id=\"T_050fc9cc_4411_11e9_b456_9822ef93214crow4_col1\" class=\"data row4 col1\" >$2.90</td>\n",
       "                        <td id=\"T_050fc9cc_4411_11e9_b456_9822ef93214crow4_col2\" class=\"data row4 col2\" >$293.00</td>\n",
       "                        <td id=\"T_050fc9cc_4411_11e9_b456_9822ef93214crow4_col3\" class=\"data row4 col3\" >$3.81</td>\n",
       "            </tr>\n",
       "            <tr>\n",
       "                        <th id=\"T_050fc9cc_4411_11e9_b456_9822ef93214clevel0_row5\" class=\"row_heading level0 row5\" >30-34</th>\n",
       "                        <td id=\"T_050fc9cc_4411_11e9_b456_9822ef93214crow5_col0\" class=\"data row5 col0\" >73</td>\n",
       "                        <td id=\"T_050fc9cc_4411_11e9_b456_9822ef93214crow5_col1\" class=\"data row5 col1\" >$2.93</td>\n",
       "                        <td id=\"T_050fc9cc_4411_11e9_b456_9822ef93214crow5_col2\" class=\"data row5 col2\" >$214.00</td>\n",
       "                        <td id=\"T_050fc9cc_4411_11e9_b456_9822ef93214crow5_col3\" class=\"data row5 col3\" >$4.12</td>\n",
       "            </tr>\n",
       "            <tr>\n",
       "                        <th id=\"T_050fc9cc_4411_11e9_b456_9822ef93214clevel0_row6\" class=\"row_heading level0 row6\" >35-39</th>\n",
       "                        <td id=\"T_050fc9cc_4411_11e9_b456_9822ef93214crow6_col0\" class=\"data row6 col0\" >41</td>\n",
       "                        <td id=\"T_050fc9cc_4411_11e9_b456_9822ef93214crow6_col1\" class=\"data row6 col1\" >$3.60</td>\n",
       "                        <td id=\"T_050fc9cc_4411_11e9_b456_9822ef93214crow6_col2\" class=\"data row6 col2\" >$147.67</td>\n",
       "                        <td id=\"T_050fc9cc_4411_11e9_b456_9822ef93214crow6_col3\" class=\"data row6 col3\" >$4.76</td>\n",
       "            </tr>\n",
       "            <tr>\n",
       "                        <th id=\"T_050fc9cc_4411_11e9_b456_9822ef93214clevel0_row7\" class=\"row_heading level0 row7\" >40+</th>\n",
       "                        <td id=\"T_050fc9cc_4411_11e9_b456_9822ef93214crow7_col0\" class=\"data row7 col0\" >13</td>\n",
       "                        <td id=\"T_050fc9cc_4411_11e9_b456_9822ef93214crow7_col1\" class=\"data row7 col1\" >$2.94</td>\n",
       "                        <td id=\"T_050fc9cc_4411_11e9_b456_9822ef93214crow7_col2\" class=\"data row7 col2\" >$38.24</td>\n",
       "                        <td id=\"T_050fc9cc_4411_11e9_b456_9822ef93214crow7_col3\" class=\"data row7 col3\" >$3.19</td>\n",
       "            </tr>\n",
       "    </tbody></table>"
      ],
      "text/plain": [
       "<pandas.io.formats.style.Styler at 0x5a3b9f0>"
      ]
     },
     "execution_count": 7,
     "metadata": {},
     "output_type": "execute_result"
    }
   ],
   "source": []
  },
  {
   "cell_type": "markdown",
   "metadata": {},
   "source": [
    "## Top Spenders"
   ]
  },
  {
   "cell_type": "markdown",
   "metadata": {},
   "source": [
    "* Identify the the top 5 spenders in the game by total purchase value (top-5 players with highest total purchase value), then list (in a table):\n",
    "  * SN(screen name)\n",
    "  * Purchase Count\n",
    "  * Average Purchase Price\n",
    "  * Total Purchase Value\n",
    "* Run basic calculations to obtain the results in the table below\n",
    "* Create a summary data frame to hold the results\n",
    "* Sort the total purchase value column in descending order\n",
    "* Display a preview of the summary data frame"
   ]
  },
  {
   "cell_type": "code",
   "execution_count": 8,
   "metadata": {},
   "outputs": [
    {
     "data": {
      "text/html": [
       "<style  type=\"text/css\" >\n",
       "</style><table id=\"T_0516cc54_4411_11e9_9910_9822ef93214c\" ><thead>    <tr>        <th class=\"blank level0\" ></th>        <th class=\"col_heading level0 col0\" >Purchase Count</th>        <th class=\"col_heading level0 col1\" >Average Purchase Price</th>        <th class=\"col_heading level0 col2\" >Total Purchase Value</th>    </tr>    <tr>        <th class=\"index_name level0\" >SN</th>        <th class=\"blank\" ></th>        <th class=\"blank\" ></th>        <th class=\"blank\" ></th>    </tr></thead><tbody>\n",
       "                <tr>\n",
       "                        <th id=\"T_0516cc54_4411_11e9_9910_9822ef93214clevel0_row0\" class=\"row_heading level0 row0\" >Lisosia93</th>\n",
       "                        <td id=\"T_0516cc54_4411_11e9_9910_9822ef93214crow0_col0\" class=\"data row0 col0\" >5</td>\n",
       "                        <td id=\"T_0516cc54_4411_11e9_9910_9822ef93214crow0_col1\" class=\"data row0 col1\" >$3.79</td>\n",
       "                        <td id=\"T_0516cc54_4411_11e9_9910_9822ef93214crow0_col2\" class=\"data row0 col2\" >$18.96</td>\n",
       "            </tr>\n",
       "            <tr>\n",
       "                        <th id=\"T_0516cc54_4411_11e9_9910_9822ef93214clevel0_row1\" class=\"row_heading level0 row1\" >Idastidru52</th>\n",
       "                        <td id=\"T_0516cc54_4411_11e9_9910_9822ef93214crow1_col0\" class=\"data row1 col0\" >4</td>\n",
       "                        <td id=\"T_0516cc54_4411_11e9_9910_9822ef93214crow1_col1\" class=\"data row1 col1\" >$3.86</td>\n",
       "                        <td id=\"T_0516cc54_4411_11e9_9910_9822ef93214crow1_col2\" class=\"data row1 col2\" >$15.45</td>\n",
       "            </tr>\n",
       "            <tr>\n",
       "                        <th id=\"T_0516cc54_4411_11e9_9910_9822ef93214clevel0_row2\" class=\"row_heading level0 row2\" >Chamjask73</th>\n",
       "                        <td id=\"T_0516cc54_4411_11e9_9910_9822ef93214crow2_col0\" class=\"data row2 col0\" >3</td>\n",
       "                        <td id=\"T_0516cc54_4411_11e9_9910_9822ef93214crow2_col1\" class=\"data row2 col1\" >$4.61</td>\n",
       "                        <td id=\"T_0516cc54_4411_11e9_9910_9822ef93214crow2_col2\" class=\"data row2 col2\" >$13.83</td>\n",
       "            </tr>\n",
       "            <tr>\n",
       "                        <th id=\"T_0516cc54_4411_11e9_9910_9822ef93214clevel0_row3\" class=\"row_heading level0 row3\" >Iral74</th>\n",
       "                        <td id=\"T_0516cc54_4411_11e9_9910_9822ef93214crow3_col0\" class=\"data row3 col0\" >4</td>\n",
       "                        <td id=\"T_0516cc54_4411_11e9_9910_9822ef93214crow3_col1\" class=\"data row3 col1\" >$3.40</td>\n",
       "                        <td id=\"T_0516cc54_4411_11e9_9910_9822ef93214crow3_col2\" class=\"data row3 col2\" >$13.62</td>\n",
       "            </tr>\n",
       "            <tr>\n",
       "                        <th id=\"T_0516cc54_4411_11e9_9910_9822ef93214clevel0_row4\" class=\"row_heading level0 row4\" >Iskadarya95</th>\n",
       "                        <td id=\"T_0516cc54_4411_11e9_9910_9822ef93214crow4_col0\" class=\"data row4 col0\" >3</td>\n",
       "                        <td id=\"T_0516cc54_4411_11e9_9910_9822ef93214crow4_col1\" class=\"data row4 col1\" >$4.37</td>\n",
       "                        <td id=\"T_0516cc54_4411_11e9_9910_9822ef93214crow4_col2\" class=\"data row4 col2\" >$13.10</td>\n",
       "            </tr>\n",
       "    </tbody></table>"
      ],
      "text/plain": [
       "<pandas.io.formats.style.Styler at 0xb7ab750>"
      ]
     },
     "execution_count": 8,
     "metadata": {},
     "output_type": "execute_result"
    }
   ],
   "source": []
  },
  {
   "cell_type": "markdown",
   "metadata": {},
   "source": [
    "## Most Popular Items"
   ]
  },
  {
   "cell_type": "markdown",
   "metadata": {},
   "source": [
    "* Top 5 most popular items by purchase count:\n",
    "  * Item ID\n",
    "  * Item Name\n",
    "  * Purchase Count\n",
    "  * Item Price\n",
    "  * Total Purchase Value\n",
    "* Retrieve the Item ID, Item Name, and Item Price columns\n",
    "* Group by Item ID and Item Name. Perform calculations to obtain purchase count, item price, and total purchase value\n",
    "* Create a summary data frame to hold the results\n",
    "* Sort the purchase count column in descending order\n",
    "* Display a preview of the summary data frame"
   ]
  },
  {
   "cell_type": "code",
   "execution_count": 9,
   "metadata": {},
   "outputs": [
    {
     "data": {
      "text/html": [
       "<style  type=\"text/css\" >\n",
       "</style><table id=\"T_051eb3ca_4411_11e9_8c15_9822ef93214c\" ><thead>    <tr>        <th class=\"blank\" ></th>        <th class=\"blank level0\" ></th>        <th class=\"col_heading level0 col0\" >Purchase Count</th>        <th class=\"col_heading level0 col1\" >Item Price</th>        <th class=\"col_heading level0 col2\" >Total Purchase Value</th>    </tr>    <tr>        <th class=\"index_name level0\" >Item ID</th>        <th class=\"index_name level1\" >Item Name</th>        <th class=\"blank\" ></th>        <th class=\"blank\" ></th>        <th class=\"blank\" ></th>    </tr></thead><tbody>\n",
       "                <tr>\n",
       "                        <th id=\"T_051eb3ca_4411_11e9_8c15_9822ef93214clevel0_row0\" class=\"row_heading level0 row0\" >178</th>\n",
       "                        <th id=\"T_051eb3ca_4411_11e9_8c15_9822ef93214clevel1_row0\" class=\"row_heading level1 row0\" >Oathbreaker, Last Hope of the Breaking Storm</th>\n",
       "                        <td id=\"T_051eb3ca_4411_11e9_8c15_9822ef93214crow0_col0\" class=\"data row0 col0\" >12</td>\n",
       "                        <td id=\"T_051eb3ca_4411_11e9_8c15_9822ef93214crow0_col1\" class=\"data row0 col1\" >$4.23</td>\n",
       "                        <td id=\"T_051eb3ca_4411_11e9_8c15_9822ef93214crow0_col2\" class=\"data row0 col2\" >$50.76</td>\n",
       "            </tr>\n",
       "            <tr>\n",
       "                        <th id=\"T_051eb3ca_4411_11e9_8c15_9822ef93214clevel0_row1\" class=\"row_heading level0 row1\" >145</th>\n",
       "                        <th id=\"T_051eb3ca_4411_11e9_8c15_9822ef93214clevel1_row1\" class=\"row_heading level1 row1\" >Fiery Glass Crusader</th>\n",
       "                        <td id=\"T_051eb3ca_4411_11e9_8c15_9822ef93214crow1_col0\" class=\"data row1 col0\" >9</td>\n",
       "                        <td id=\"T_051eb3ca_4411_11e9_8c15_9822ef93214crow1_col1\" class=\"data row1 col1\" >$4.58</td>\n",
       "                        <td id=\"T_051eb3ca_4411_11e9_8c15_9822ef93214crow1_col2\" class=\"data row1 col2\" >$41.22</td>\n",
       "            </tr>\n",
       "            <tr>\n",
       "                        <th id=\"T_051eb3ca_4411_11e9_8c15_9822ef93214clevel0_row2\" class=\"row_heading level0 row2\" >108</th>\n",
       "                        <th id=\"T_051eb3ca_4411_11e9_8c15_9822ef93214clevel1_row2\" class=\"row_heading level1 row2\" >Extraction, Quickblade Of Trembling Hands</th>\n",
       "                        <td id=\"T_051eb3ca_4411_11e9_8c15_9822ef93214crow2_col0\" class=\"data row2 col0\" >9</td>\n",
       "                        <td id=\"T_051eb3ca_4411_11e9_8c15_9822ef93214crow2_col1\" class=\"data row2 col1\" >$3.53</td>\n",
       "                        <td id=\"T_051eb3ca_4411_11e9_8c15_9822ef93214crow2_col2\" class=\"data row2 col2\" >$31.77</td>\n",
       "            </tr>\n",
       "            <tr>\n",
       "                        <th id=\"T_051eb3ca_4411_11e9_8c15_9822ef93214clevel0_row3\" class=\"row_heading level0 row3\" >82</th>\n",
       "                        <th id=\"T_051eb3ca_4411_11e9_8c15_9822ef93214clevel1_row3\" class=\"row_heading level1 row3\" >Nirvana</th>\n",
       "                        <td id=\"T_051eb3ca_4411_11e9_8c15_9822ef93214crow3_col0\" class=\"data row3 col0\" >9</td>\n",
       "                        <td id=\"T_051eb3ca_4411_11e9_8c15_9822ef93214crow3_col1\" class=\"data row3 col1\" >$4.90</td>\n",
       "                        <td id=\"T_051eb3ca_4411_11e9_8c15_9822ef93214crow3_col2\" class=\"data row3 col2\" >$44.10</td>\n",
       "            </tr>\n",
       "            <tr>\n",
       "                        <th id=\"T_051eb3ca_4411_11e9_8c15_9822ef93214clevel0_row4\" class=\"row_heading level0 row4\" >19</th>\n",
       "                        <th id=\"T_051eb3ca_4411_11e9_8c15_9822ef93214clevel1_row4\" class=\"row_heading level1 row4\" >Pursuit, Cudgel of Necromancy</th>\n",
       "                        <td id=\"T_051eb3ca_4411_11e9_8c15_9822ef93214crow4_col0\" class=\"data row4 col0\" >8</td>\n",
       "                        <td id=\"T_051eb3ca_4411_11e9_8c15_9822ef93214crow4_col1\" class=\"data row4 col1\" >$1.02</td>\n",
       "                        <td id=\"T_051eb3ca_4411_11e9_8c15_9822ef93214crow4_col2\" class=\"data row4 col2\" >$8.16</td>\n",
       "            </tr>\n",
       "    </tbody></table>"
      ],
      "text/plain": [
       "<pandas.io.formats.style.Styler at 0xc1cbbf0>"
      ]
     },
     "execution_count": 9,
     "metadata": {},
     "output_type": "execute_result"
    }
   ],
   "source": []
  },
  {
   "cell_type": "markdown",
   "metadata": {},
   "source": [
    "## Most Profitable Items"
   ]
  },
  {
   "cell_type": "markdown",
   "metadata": {},
   "source": [
    "* Top 5 most profitable items by total purchase value:\n",
    "  * Item ID\n",
    "  * Item Name\n",
    "  * Purchase Count\n",
    "  * Item Price\n",
    "  * Total Purchase Value\n",
    "* Sort the above table by total purchase value in descending order\n",
    "* Display a preview of the data frame"
   ]
  },
  {
   "cell_type": "code",
   "execution_count": 10,
   "metadata": {
    "scrolled": true
   },
   "outputs": [
    {
     "data": {
      "text/html": [
       "<style  type=\"text/css\" >\n",
       "</style><table id=\"T_05231d8a_4411_11e9_80c0_9822ef93214c\" ><thead>    <tr>        <th class=\"blank\" ></th>        <th class=\"blank level0\" ></th>        <th class=\"col_heading level0 col0\" >Purchase Count</th>        <th class=\"col_heading level0 col1\" >Item Price</th>        <th class=\"col_heading level0 col2\" >Total Purchase Value</th>    </tr>    <tr>        <th class=\"index_name level0\" >Item ID</th>        <th class=\"index_name level1\" >Item Name</th>        <th class=\"blank\" ></th>        <th class=\"blank\" ></th>        <th class=\"blank\" ></th>    </tr></thead><tbody>\n",
       "                <tr>\n",
       "                        <th id=\"T_05231d8a_4411_11e9_80c0_9822ef93214clevel0_row0\" class=\"row_heading level0 row0\" >178</th>\n",
       "                        <th id=\"T_05231d8a_4411_11e9_80c0_9822ef93214clevel1_row0\" class=\"row_heading level1 row0\" >Oathbreaker, Last Hope of the Breaking Storm</th>\n",
       "                        <td id=\"T_05231d8a_4411_11e9_80c0_9822ef93214crow0_col0\" class=\"data row0 col0\" >12</td>\n",
       "                        <td id=\"T_05231d8a_4411_11e9_80c0_9822ef93214crow0_col1\" class=\"data row0 col1\" >$4.23</td>\n",
       "                        <td id=\"T_05231d8a_4411_11e9_80c0_9822ef93214crow0_col2\" class=\"data row0 col2\" >$50.76</td>\n",
       "            </tr>\n",
       "            <tr>\n",
       "                        <th id=\"T_05231d8a_4411_11e9_80c0_9822ef93214clevel0_row1\" class=\"row_heading level0 row1\" >82</th>\n",
       "                        <th id=\"T_05231d8a_4411_11e9_80c0_9822ef93214clevel1_row1\" class=\"row_heading level1 row1\" >Nirvana</th>\n",
       "                        <td id=\"T_05231d8a_4411_11e9_80c0_9822ef93214crow1_col0\" class=\"data row1 col0\" >9</td>\n",
       "                        <td id=\"T_05231d8a_4411_11e9_80c0_9822ef93214crow1_col1\" class=\"data row1 col1\" >$4.90</td>\n",
       "                        <td id=\"T_05231d8a_4411_11e9_80c0_9822ef93214crow1_col2\" class=\"data row1 col2\" >$44.10</td>\n",
       "            </tr>\n",
       "            <tr>\n",
       "                        <th id=\"T_05231d8a_4411_11e9_80c0_9822ef93214clevel0_row2\" class=\"row_heading level0 row2\" >145</th>\n",
       "                        <th id=\"T_05231d8a_4411_11e9_80c0_9822ef93214clevel1_row2\" class=\"row_heading level1 row2\" >Fiery Glass Crusader</th>\n",
       "                        <td id=\"T_05231d8a_4411_11e9_80c0_9822ef93214crow2_col0\" class=\"data row2 col0\" >9</td>\n",
       "                        <td id=\"T_05231d8a_4411_11e9_80c0_9822ef93214crow2_col1\" class=\"data row2 col1\" >$4.58</td>\n",
       "                        <td id=\"T_05231d8a_4411_11e9_80c0_9822ef93214crow2_col2\" class=\"data row2 col2\" >$41.22</td>\n",
       "            </tr>\n",
       "            <tr>\n",
       "                        <th id=\"T_05231d8a_4411_11e9_80c0_9822ef93214clevel0_row3\" class=\"row_heading level0 row3\" >92</th>\n",
       "                        <th id=\"T_05231d8a_4411_11e9_80c0_9822ef93214clevel1_row3\" class=\"row_heading level1 row3\" >Final Critic</th>\n",
       "                        <td id=\"T_05231d8a_4411_11e9_80c0_9822ef93214crow3_col0\" class=\"data row3 col0\" >8</td>\n",
       "                        <td id=\"T_05231d8a_4411_11e9_80c0_9822ef93214crow3_col1\" class=\"data row3 col1\" >$4.88</td>\n",
       "                        <td id=\"T_05231d8a_4411_11e9_80c0_9822ef93214crow3_col2\" class=\"data row3 col2\" >$39.04</td>\n",
       "            </tr>\n",
       "            <tr>\n",
       "                        <th id=\"T_05231d8a_4411_11e9_80c0_9822ef93214clevel0_row4\" class=\"row_heading level0 row4\" >103</th>\n",
       "                        <th id=\"T_05231d8a_4411_11e9_80c0_9822ef93214clevel1_row4\" class=\"row_heading level1 row4\" >Singed Scalpel</th>\n",
       "                        <td id=\"T_05231d8a_4411_11e9_80c0_9822ef93214crow4_col0\" class=\"data row4 col0\" >8</td>\n",
       "                        <td id=\"T_05231d8a_4411_11e9_80c0_9822ef93214crow4_col1\" class=\"data row4 col1\" >$4.35</td>\n",
       "                        <td id=\"T_05231d8a_4411_11e9_80c0_9822ef93214crow4_col2\" class=\"data row4 col2\" >$34.80</td>\n",
       "            </tr>\n",
       "    </tbody></table>"
      ],
      "text/plain": [
       "<pandas.io.formats.style.Styler at 0xb7ab5d0>"
      ]
     },
     "execution_count": 10,
     "metadata": {},
     "output_type": "execute_result"
    }
   ],
   "source": []
  }
 ],
 "metadata": {
  "anaconda-cloud": {},
  "kernel_info": {
   "name": "python3"
  },
  "kernelspec": {
   "display_name": "Python 3 (ipykernel)",
   "language": "python",
   "name": "python3"
  },
  "language_info": {
   "codemirror_mode": {
    "name": "ipython",
    "version": 3
   },
   "file_extension": ".py",
   "mimetype": "text/x-python",
   "name": "python",
   "nbconvert_exporter": "python",
   "pygments_lexer": "ipython3",
   "version": "3.11.10"
  },
  "nteract": {
   "version": "0.8.4"
  }
 },
 "nbformat": 4,
 "nbformat_minor": 4
}
